{
 "cells": [
  {
   "cell_type": "code",
   "execution_count": 3,
   "id": "9414b71b-e3bf-4cfd-8841-3335c8920d1d",
   "metadata": {},
   "outputs": [],
   "source": [
    "import pandas as pd"
   ]
  },
  {
   "cell_type": "code",
   "execution_count": 4,
   "id": "7c7ee112-c1eb-47e9-9dda-1da6279996c1",
   "metadata": {},
   "outputs": [],
   "source": [
    "data=pd.read_csv(\"student_scores.csv\")"
   ]
  },
  {
   "cell_type": "code",
   "execution_count": 5,
   "id": "5f2fcdad-4ad1-4d7b-b5a9-db92145219f5",
   "metadata": {},
   "outputs": [
    {
     "data": {
      "text/html": [
       "<div>\n",
       "<style scoped>\n",
       "    .dataframe tbody tr th:only-of-type {\n",
       "        vertical-align: middle;\n",
       "    }\n",
       "\n",
       "    .dataframe tbody tr th {\n",
       "        vertical-align: top;\n",
       "    }\n",
       "\n",
       "    .dataframe thead th {\n",
       "        text-align: right;\n",
       "    }\n",
       "</style>\n",
       "<table border=\"1\" class=\"dataframe\">\n",
       "  <thead>\n",
       "    <tr style=\"text-align: right;\">\n",
       "      <th></th>\n",
       "      <th>Hours</th>\n",
       "      <th>Scores</th>\n",
       "    </tr>\n",
       "  </thead>\n",
       "  <tbody>\n",
       "    <tr>\n",
       "      <th>0</th>\n",
       "      <td>2.5</td>\n",
       "      <td>21</td>\n",
       "    </tr>\n",
       "    <tr>\n",
       "      <th>1</th>\n",
       "      <td>5.1</td>\n",
       "      <td>47</td>\n",
       "    </tr>\n",
       "    <tr>\n",
       "      <th>2</th>\n",
       "      <td>3.2</td>\n",
       "      <td>27</td>\n",
       "    </tr>\n",
       "    <tr>\n",
       "      <th>3</th>\n",
       "      <td>8.5</td>\n",
       "      <td>75</td>\n",
       "    </tr>\n",
       "    <tr>\n",
       "      <th>4</th>\n",
       "      <td>3.5</td>\n",
       "      <td>30</td>\n",
       "    </tr>\n",
       "  </tbody>\n",
       "</table>\n",
       "</div>"
      ],
      "text/plain": [
       "   Hours  Scores\n",
       "0    2.5      21\n",
       "1    5.1      47\n",
       "2    3.2      27\n",
       "3    8.5      75\n",
       "4    3.5      30"
      ]
     },
     "execution_count": 5,
     "metadata": {},
     "output_type": "execute_result"
    }
   ],
   "source": [
    "data.head()"
   ]
  },
  {
   "cell_type": "code",
   "execution_count": 6,
   "id": "9411524b-61c1-4a21-b009-0863eba526a4",
   "metadata": {},
   "outputs": [
    {
     "data": {
      "text/plain": [
       "Hours     0\n",
       "Scores    0\n",
       "dtype: int64"
      ]
     },
     "execution_count": 6,
     "metadata": {},
     "output_type": "execute_result"
    }
   ],
   "source": [
    "data.isna().sum()"
   ]
  },
  {
   "cell_type": "code",
   "execution_count": 7,
   "id": "3c0b3f8a-4152-4c1b-ab60-ee554aca8f6a",
   "metadata": {},
   "outputs": [
    {
     "name": "stdout",
     "output_type": "stream",
     "text": [
      "Hours\n",
      "Scores\n"
     ]
    }
   ],
   "source": [
    "for i in data.columns:\n",
    "    print(i)"
   ]
  },
  {
   "cell_type": "code",
   "execution_count": 8,
   "id": "75ebc4a3-d322-4b36-b4b5-92c8c422e125",
   "metadata": {},
   "outputs": [
    {
     "name": "stdout",
     "output_type": "stream",
     "text": [
      "summation of x 125.3\n",
      "\n",
      "(Summation of x)^2 15700.09\n",
      "\n",
      "summation of y  1287\n",
      "Summation of X*Y 161261.1\n"
     ]
    }
   ],
   "source": [
    "sum_x=0\n",
    "for i in data[\"Hours\"]:\n",
    "    sum_x=sum_x+i\n",
    "print(\"summation of x\",sum_x)\n",
    "sum_x_x=(sum_x)**2\n",
    "print(\"\\n(Summation of x)^2\",sum_x_x)\n",
    "\n",
    "\n",
    "sum_y=0\n",
    "for i in data[\"Scores\"]:\n",
    "    sum_y=sum_y+i\n",
    "print(\"\\nsummation of y \",sum_y)\n",
    "\n",
    "sum_x_and_sum_y =sum_x*sum_y\n",
    "print(\"Summation of X*Y\",sum_x_and_sum_y)"
   ]
  },
  {
   "cell_type": "code",
   "execution_count": 9,
   "id": "9800330a-119d-400b-8143-84ab034c6458",
   "metadata": {},
   "outputs": [
    {
     "name": "stdout",
     "output_type": "stream",
     "text": [
      "\n",
      "Summation of X^2 781.0300000000001\n"
     ]
    }
   ],
   "source": [
    "sum_xx=0\n",
    "for i in data[\"Hours\"]:\n",
    "    sum_xx=sum_xx+i**2\n",
    "print(\"\\nSummation of X^2\",sum_xx)"
   ]
  },
  {
   "cell_type": "code",
   "execution_count": 10,
   "id": "d5a8b27e-108d-4b51-b5a6-60dcdeb5dcb6",
   "metadata": {},
   "outputs": [
    {
     "name": "stdout",
     "output_type": "stream",
     "text": [
      "7946.400000000001\n"
     ]
    }
   ],
   "source": [
    "import numpy as np\n",
    "x=data[\"Hours\"]\n",
    "y=data[\"Scores\"]\n",
    "sum_xy=np.sum(x*y)\n",
    "print(sum_xy)\n",
    "\n",
    "# import pandas as pd\n",
    "# x = data[\"Hours\"]\n",
    "# y = data[\"Scores\"]\n",
    "# sum_xy = (x * y).sum()\n",
    "# print(sum_xy)"
   ]
  },
  {
   "cell_type": "code",
   "execution_count": 11,
   "id": "b3056ad4-bcbd-4718-8cf9-a9d4ab5f1750",
   "metadata": {},
   "outputs": [
    {
     "name": "stdout",
     "output_type": "stream",
     "text": [
      "25\n"
     ]
    }
   ],
   "source": [
    "n=len(data)\n",
    "print(n)"
   ]
  },
  {
   "cell_type": "code",
   "execution_count": 12,
   "id": "5882e4f8-9f19-4a28-8a01-917a60f5ad82",
   "metadata": {},
   "outputs": [
    {
     "data": {
      "text/plain": [
       "9.77580339078746"
      ]
     },
     "execution_count": 12,
     "metadata": {},
     "output_type": "execute_result"
    }
   ],
   "source": [
    "beta_1=(n*sum_xy - sum_x_and_sum_y)/(n*sum_xx - sum_x_x)\n",
    "beta_1"
   ]
  },
  {
   "cell_type": "code",
   "execution_count": 13,
   "id": "7c24c76f-d82e-4eb1-ab4f-d26e0c5ab5c0",
   "metadata": {},
   "outputs": [
    {
     "data": {
      "text/plain": [
       "2.483673405373247"
      ]
     },
     "execution_count": 13,
     "metadata": {},
     "output_type": "execute_result"
    }
   ],
   "source": [
    "beta_0=(sum_y-(beta_1*sum_x))/n\n",
    "beta_0"
   ]
  },
  {
   "cell_type": "code",
   "execution_count": 14,
   "id": "cebf0178-e461-451c-9a0c-7039e907584d",
   "metadata": {},
   "outputs": [
    {
     "data": {
      "text/plain": [
       "0     26.923\n",
       "1     52.340\n",
       "2     33.766\n",
       "3     85.578\n",
       "4     36.699\n",
       "5     17.147\n",
       "6     92.421\n",
       "7     56.251\n",
       "8     83.623\n",
       "9     28.878\n",
       "10    77.757\n",
       "11    60.161\n",
       "12    46.475\n",
       "13    34.744\n",
       "14    13.237\n",
       "15    89.488\n",
       "16    26.923\n",
       "17    21.058\n",
       "18    62.116\n",
       "19    74.825\n",
       "20    28.878\n",
       "21    49.408\n",
       "22    39.632\n",
       "23    69.937\n",
       "24    78.735\n",
       "Name: Hours, dtype: float64"
      ]
     },
     "execution_count": 14,
     "metadata": {},
     "output_type": "execute_result"
    }
   ],
   "source": [
    "y_=beta_1*x+beta_0\n",
    "y_.round(3)"
   ]
  },
  {
   "cell_type": "code",
   "execution_count": 15,
   "id": "00bbcf44-ea71-4b77-90f8-b20ecbf22662",
   "metadata": {},
   "outputs": [
    {
     "name": "stdout",
     "output_type": "stream",
     "text": [
      "y=mx+c  9.775 * x + 2.483  \n"
     ]
    }
   ],
   "source": [
    "print(f\"y=mx+c  9.775 * x + 2.483  \")"
   ]
  },
  {
   "cell_type": "code",
   "execution_count": 16,
   "id": "7c5d59e4-9275-4c9d-bdab-2602dc31ea02",
   "metadata": {},
   "outputs": [],
   "source": [
    "X = data[['Hours']]  # Features (study hours)\n",
    "Y = data['Scores']  "
   ]
  },
  {
   "cell_type": "code",
   "execution_count": 17,
   "id": "5c049dbc-e553-491f-b80a-3fb0d1d7a6c9",
   "metadata": {},
   "outputs": [],
   "source": [
    "from sklearn.model_selection import train_test_split\n",
    "X_train, X_test, y_train, y_test = train_test_split(X, Y, test_size=0.2, random_state=42)"
   ]
  },
  {
   "cell_type": "code",
   "execution_count": 18,
   "id": "e4e5fec6-a1ae-4171-8dfe-0c3d1adba5f1",
   "metadata": {},
   "outputs": [
    {
     "data": {
      "image/png": "[encoded data removed]",
      "text/plain": [
       "<Figure size 640x480 with 1 Axes>"
      ]
     },
     "metadata": {},
     "output_type": "display_data"
    }
   ],
   "source": [
    "import matplotlib.pyplot as plt\n",
    "plt.scatter(X, y, color='blue', label='Data Points')  # Actual data points\n",
    "plt.plot(X, y_, color='red', label=f'Regression Line: y = {beta_1:.2f}x + {beta_0:.2f}')  # Fitted regression line\n",
    "plt.xlabel('Study Hours')\n",
    "plt.ylabel('Scores')\n",
    "plt.title('Linear Regression: Study Hours vs Scores')\n",
    "plt.legend()\n",
    "plt.show()"
   ]
  },
  {
   "cell_type": "code",
   "execution_count": null,
   "id": "7e1959d1-f69e-4521-80b9-8caf08a3aa20",
   "metadata": {},
   "outputs": [],
   "source": []
  },
  {
   "cell_type": "code",
   "execution_count": null,
   "id": "276ce3d6-00bd-4654-8a7f-0b9f7f474206",
   "metadata": {},
   "outputs": [],
   "source": []
  },
  {
   "cell_type": "code",
   "execution_count": null,
   "id": "dda78867-5af7-4bd4-86ef-569a04a28ecf",
   "metadata": {},
   "outputs": [],
   "source": []
  }
 ],
 "metadata": {
  "kernelspec": {
   "display_name": "Python 3 (ipykernel)",
   "language": "python",
   "name": "python3"
  },
  "language_info": {
   "codemirror_mode": {
    "name": "ipython",
    "version": 3
   },
   "file_extension": ".py",
   "mimetype": "text/x-python",
   "name": "python",
   "nbconvert_exporter": "python",
   "pygments_lexer": "ipython3",
   "version": "3.12.4"
  }
 },
 "nbformat": 4,
 "nbformat_minor": 5
}
